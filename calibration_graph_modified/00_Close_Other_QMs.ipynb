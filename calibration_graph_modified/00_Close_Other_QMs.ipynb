{
 "cells": [
  {
   "cell_type": "markdown",
   "id": "e48e2de1-a895-48b7-bd90-bdaf2c7ce22c",
   "metadata": {},
   "source": [
    "# Close other Qms"
   ]
  },
  {
   "cell_type": "markdown",
   "id": "5500ebef-2728-41bc-a0c7-00c04043079d",
   "metadata": {},
   "source": [
    "A simple program to close all other open QMs."
   ]
  },
  {
   "cell_type": "code",
   "execution_count": 1,
   "id": "0be2dcd3-1d4e-4276-a52f-9238d9a6c5ac",
   "metadata": {},
   "outputs": [
    {
     "name": "stdout",
     "output_type": "stream",
     "text": [
      "2025-07-18 15:22:34,441 - qm - INFO     - Starting session: be5a9481-6fd8-4108-8c16-e6878d61f6f4\n"
     ]
    },
    {
     "ename": "ModuleNotFoundError",
     "evalue": "No module named 'quam_libs'",
     "output_type": "error",
     "traceback": [
      "\u001b[1;31m---------------------------------------------------------------------------\u001b[0m",
      "\u001b[1;31mModuleNotFoundError\u001b[0m                       Traceback (most recent call last)",
      "Cell \u001b[1;32mIn[1], line 4\u001b[0m\n\u001b[0;32m      1\u001b[0m \u001b[38;5;28;01mfrom\u001b[39;00m\u001b[38;5;250m \u001b[39m\u001b[38;5;21;01mtyping\u001b[39;00m\u001b[38;5;250m \u001b[39m\u001b[38;5;28;01mimport\u001b[39;00m Optional, List\n\u001b[0;32m      2\u001b[0m \u001b[38;5;28;01mfrom\u001b[39;00m\u001b[38;5;250m \u001b[39m\u001b[38;5;21;01mqualibrate\u001b[39;00m\u001b[38;5;250m \u001b[39m\u001b[38;5;28;01mimport\u001b[39;00m QualibrationNode, NodeParameters\n\u001b[1;32m----> 4\u001b[0m \u001b[38;5;28;01mfrom\u001b[39;00m\u001b[38;5;250m \u001b[39m\u001b[38;5;21;01mquam_libs\u001b[39;00m\u001b[38;5;21;01m.\u001b[39;00m\u001b[38;5;21;01mcomponents\u001b[39;00m\u001b[38;5;250m \u001b[39m\u001b[38;5;28;01mimport\u001b[39;00m QuAM\n",
      "\u001b[1;31mModuleNotFoundError\u001b[0m: No module named 'quam_libs'"
     ]
    }
   ],
   "source": [
    "from typing import Optional, List\n",
    "from qualibrate import QualibrationNode, NodeParameters\n",
    "\n",
    "from quam_libs.components import QuAM"
   ]
  },
  {
   "cell_type": "code",
   "execution_count": null,
   "id": "0849647a-eb0e-4c34-8d33-0aad85c7667c",
   "metadata": {},
   "outputs": [],
   "source": []
  }
 ],
 "metadata": {
  "kernelspec": {
   "display_name": "Python 3 (ipykernel)",
   "language": "python",
   "name": "python3"
  },
  "language_info": {
   "codemirror_mode": {
    "name": "ipython",
    "version": 3
   },
   "file_extension": ".py",
   "mimetype": "text/x-python",
   "name": "python",
   "nbconvert_exporter": "python",
   "pygments_lexer": "ipython3",
   "version": "3.10.17"
  }
 },
 "nbformat": 4,
 "nbformat_minor": 5
}
